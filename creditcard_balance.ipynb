{
 "cells": [
  {
   "cell_type": "code",
   "execution_count": 1,
   "metadata": {},
   "outputs": [],
   "source": [
    "import numpy as np\n",
    "import pandas as pd\n",
    "import matplotlib.pyplot as plt\n",
    "import statsmodels.api as sm\n",
    "from sklearn.model_selection import train_test_split\n",
    "from sklearn.metrics import r2_score\n",
    "from pandas.plotting import scatter_matrix\n",
    "#matplotlib inline"
   ]
  },
  {
   "cell_type": "code",
   "execution_count": 3,
   "metadata": {},
   "outputs": [
    {
     "data": {
      "text/html": [
       "<div>\n",
       "<style scoped>\n",
       "    .dataframe tbody tr th:only-of-type {\n",
       "        vertical-align: middle;\n",
       "    }\n",
       "\n",
       "    .dataframe tbody tr th {\n",
       "        vertical-align: top;\n",
       "    }\n",
       "\n",
       "    .dataframe thead th {\n",
       "        text-align: right;\n",
       "    }\n",
       "</style>\n",
       "<table border=\"1\" class=\"dataframe\">\n",
       "  <thead>\n",
       "    <tr style=\"text-align: right;\">\n",
       "      <th></th>\n",
       "      <th>Unnamed: 0</th>\n",
       "      <th>Income</th>\n",
       "      <th>Limit</th>\n",
       "      <th>Rating</th>\n",
       "      <th>Cards</th>\n",
       "      <th>Age</th>\n",
       "      <th>Education</th>\n",
       "      <th>Gender</th>\n",
       "      <th>Student</th>\n",
       "      <th>Married</th>\n",
       "      <th>Ethnicity</th>\n",
       "      <th>Balance</th>\n",
       "    </tr>\n",
       "  </thead>\n",
       "  <tbody>\n",
       "    <tr>\n",
       "      <th>0</th>\n",
       "      <td>1</td>\n",
       "      <td>14.891</td>\n",
       "      <td>3606</td>\n",
       "      <td>283</td>\n",
       "      <td>2</td>\n",
       "      <td>34</td>\n",
       "      <td>11</td>\n",
       "      <td>Male</td>\n",
       "      <td>No</td>\n",
       "      <td>Yes</td>\n",
       "      <td>Caucasian</td>\n",
       "      <td>333</td>\n",
       "    </tr>\n",
       "    <tr>\n",
       "      <th>1</th>\n",
       "      <td>2</td>\n",
       "      <td>106.025</td>\n",
       "      <td>6645</td>\n",
       "      <td>483</td>\n",
       "      <td>3</td>\n",
       "      <td>82</td>\n",
       "      <td>15</td>\n",
       "      <td>Female</td>\n",
       "      <td>Yes</td>\n",
       "      <td>Yes</td>\n",
       "      <td>Asian</td>\n",
       "      <td>903</td>\n",
       "    </tr>\n",
       "  </tbody>\n",
       "</table>\n",
       "</div>"
      ],
      "text/plain": [
       "   Unnamed: 0   Income  Limit  Rating  Cards  Age  Education  Gender Student  \\\n",
       "0           1   14.891   3606     283      2   34         11    Male      No   \n",
       "1           2  106.025   6645     483      3   82         15  Female     Yes   \n",
       "\n",
       "  Married  Ethnicity  Balance  \n",
       "0     Yes  Caucasian      333  \n",
       "1     Yes      Asian      903  "
      ]
     },
     "execution_count": 3,
     "metadata": {},
     "output_type": "execute_result"
    }
   ],
   "source": [
    "# import the data\n",
    "df = pd.read_csv('balance.txt', delimiter=',')\n",
    "df.head(2) "
   ]
  },
  {
   "cell_type": "code",
   "execution_count": 24,
   "metadata": {},
   "outputs": [
    {
     "data": {
      "image/png": "[encoded data removed]",
      "text/plain": [
       "<matplotlib.figure.Figure at 0xc85f748>"
      ]
     },
     "metadata": {},
     "output_type": "display_data"
    }
   ],
   "source": [
    "# show any relevant graphs\n",
    "df.hist();"
   ]
  },
  {
   "cell_type": "code",
   "execution_count": 5,
   "metadata": {},
   "outputs": [
    {
     "name": "stdout",
     "output_type": "stream",
     "text": [
      "<class 'pandas.core.frame.DataFrame'>\n",
      "RangeIndex: 400 entries, 0 to 399\n",
      "Data columns (total 12 columns):\n",
      "Unnamed: 0    400 non-null int64\n",
      "Income        400 non-null float64\n",
      "Limit         400 non-null int64\n",
      "Rating        400 non-null int64\n",
      "Cards         400 non-null int64\n",
      "Age           400 non-null int64\n",
      "Education     400 non-null int64\n",
      "Gender        400 non-null object\n",
      "Student       400 non-null object\n",
      "Married       400 non-null object\n",
      "Ethnicity     400 non-null object\n",
      "Balance       400 non-null int64\n",
      "dtypes: float64(1), int64(7), object(4)\n",
      "memory usage: 37.6+ KB\n"
     ]
    }
   ],
   "source": [
    "df.info()"
   ]
  },
  {
   "cell_type": "code",
   "execution_count": 6,
   "metadata": {},
   "outputs": [
    {
     "data": {
      "text/html": [
       "<div>\n",
       "<style scoped>\n",
       "    .dataframe tbody tr th:only-of-type {\n",
       "        vertical-align: middle;\n",
       "    }\n",
       "\n",
       "    .dataframe tbody tr th {\n",
       "        vertical-align: top;\n",
       "    }\n",
       "\n",
       "    .dataframe thead th {\n",
       "        text-align: right;\n",
       "    }\n",
       "</style>\n",
       "<table border=\"1\" class=\"dataframe\">\n",
       "  <thead>\n",
       "    <tr style=\"text-align: right;\">\n",
       "      <th></th>\n",
       "      <th>count</th>\n",
       "      <th>mean</th>\n",
       "      <th>std</th>\n",
       "      <th>min</th>\n",
       "      <th>25%</th>\n",
       "      <th>50%</th>\n",
       "      <th>75%</th>\n",
       "      <th>max</th>\n",
       "    </tr>\n",
       "  </thead>\n",
       "  <tbody>\n",
       "    <tr>\n",
       "      <th>Unnamed: 0</th>\n",
       "      <td>400.0</td>\n",
       "      <td>200.500000</td>\n",
       "      <td>115.614301</td>\n",
       "      <td>1.000</td>\n",
       "      <td>100.75000</td>\n",
       "      <td>200.5000</td>\n",
       "      <td>300.25000</td>\n",
       "      <td>400.000</td>\n",
       "    </tr>\n",
       "    <tr>\n",
       "      <th>Income</th>\n",
       "      <td>400.0</td>\n",
       "      <td>45.218885</td>\n",
       "      <td>35.244273</td>\n",
       "      <td>10.354</td>\n",
       "      <td>21.00725</td>\n",
       "      <td>33.1155</td>\n",
       "      <td>57.47075</td>\n",
       "      <td>186.634</td>\n",
       "    </tr>\n",
       "    <tr>\n",
       "      <th>Limit</th>\n",
       "      <td>400.0</td>\n",
       "      <td>4735.600000</td>\n",
       "      <td>2308.198848</td>\n",
       "      <td>855.000</td>\n",
       "      <td>3088.00000</td>\n",
       "      <td>4622.5000</td>\n",
       "      <td>5872.75000</td>\n",
       "      <td>13913.000</td>\n",
       "    </tr>\n",
       "    <tr>\n",
       "      <th>Rating</th>\n",
       "      <td>400.0</td>\n",
       "      <td>354.940000</td>\n",
       "      <td>154.724143</td>\n",
       "      <td>93.000</td>\n",
       "      <td>247.25000</td>\n",
       "      <td>344.0000</td>\n",
       "      <td>437.25000</td>\n",
       "      <td>982.000</td>\n",
       "    </tr>\n",
       "    <tr>\n",
       "      <th>Cards</th>\n",
       "      <td>400.0</td>\n",
       "      <td>2.957500</td>\n",
       "      <td>1.371275</td>\n",
       "      <td>1.000</td>\n",
       "      <td>2.00000</td>\n",
       "      <td>3.0000</td>\n",
       "      <td>4.00000</td>\n",
       "      <td>9.000</td>\n",
       "    </tr>\n",
       "    <tr>\n",
       "      <th>Age</th>\n",
       "      <td>400.0</td>\n",
       "      <td>55.667500</td>\n",
       "      <td>17.249807</td>\n",
       "      <td>23.000</td>\n",
       "      <td>41.75000</td>\n",
       "      <td>56.0000</td>\n",
       "      <td>70.00000</td>\n",
       "      <td>98.000</td>\n",
       "    </tr>\n",
       "    <tr>\n",
       "      <th>Education</th>\n",
       "      <td>400.0</td>\n",
       "      <td>13.450000</td>\n",
       "      <td>3.125207</td>\n",
       "      <td>5.000</td>\n",
       "      <td>11.00000</td>\n",
       "      <td>14.0000</td>\n",
       "      <td>16.00000</td>\n",
       "      <td>20.000</td>\n",
       "    </tr>\n",
       "    <tr>\n",
       "      <th>Balance</th>\n",
       "      <td>400.0</td>\n",
       "      <td>520.015000</td>\n",
       "      <td>459.758877</td>\n",
       "      <td>0.000</td>\n",
       "      <td>68.75000</td>\n",
       "      <td>459.5000</td>\n",
       "      <td>863.00000</td>\n",
       "      <td>1999.000</td>\n",
       "    </tr>\n",
       "  </tbody>\n",
       "</table>\n",
       "</div>"
      ],
      "text/plain": [
       "            count         mean          std      min         25%        50%  \\\n",
       "Unnamed: 0  400.0   200.500000   115.614301    1.000   100.75000   200.5000   \n",
       "Income      400.0    45.218885    35.244273   10.354    21.00725    33.1155   \n",
       "Limit       400.0  4735.600000  2308.198848  855.000  3088.00000  4622.5000   \n",
       "Rating      400.0   354.940000   154.724143   93.000   247.25000   344.0000   \n",
       "Cards       400.0     2.957500     1.371275    1.000     2.00000     3.0000   \n",
       "Age         400.0    55.667500    17.249807   23.000    41.75000    56.0000   \n",
       "Education   400.0    13.450000     3.125207    5.000    11.00000    14.0000   \n",
       "Balance     400.0   520.015000   459.758877    0.000    68.75000   459.5000   \n",
       "\n",
       "                   75%        max  \n",
       "Unnamed: 0   300.25000    400.000  \n",
       "Income        57.47075    186.634  \n",
       "Limit       5872.75000  13913.000  \n",
       "Rating       437.25000    982.000  \n",
       "Cards          4.00000      9.000  \n",
       "Age           70.00000     98.000  \n",
       "Education     16.00000     20.000  \n",
       "Balance      863.00000   1999.000  "
      ]
     },
     "execution_count": 6,
     "metadata": {},
     "output_type": "execute_result"
    }
   ],
   "source": [
    "df.describe().T"
   ]
  },
  {
   "cell_type": "code",
   "execution_count": 7,
   "metadata": {},
   "outputs": [
    {
     "data": {
      "text/plain": [
       "Education    -0.008062\n",
       "Age           0.001835\n",
       "Unnamed: 0    0.006064\n",
       "Cards         0.086456\n",
       "Income        0.463656\n",
       "Limit         0.861697\n",
       "Rating        0.863625\n",
       "Balance       1.000000\n",
       "Name: Balance, dtype: float64"
      ]
     },
     "execution_count": 7,
     "metadata": {},
     "output_type": "execute_result"
    }
   ],
   "source": [
    "df.corr()['Balance'].sort_values()"
   ]
  },
  {
   "cell_type": "code",
   "execution_count": 25,
   "metadata": {},
   "outputs": [
    {
     "data": {
      "text/plain": [
       "<matplotlib.collections.PathCollection at 0xca02fd0>"
      ]
     },
     "execution_count": 25,
     "metadata": {},
     "output_type": "execute_result"
    },
    {
     "data": {
      "image/png": "[encoded data removed]",
      "text/plain": [
       "<matplotlib.figure.Figure at 0xc81c978>"
      ]
     },
     "metadata": {},
     "output_type": "display_data"
    }
   ],
   "source": [
    "# show any relevant graphs\n",
    "plt.scatter(df.Rating, df.Balance, marker='+')"
   ]
  },
  {
   "cell_type": "code",
   "execution_count": 8,
   "metadata": {},
   "outputs": [
    {
     "data": {
      "text/plain": [
       "0    333\n",
       "1    903\n",
       "2    580\n",
       "3    964\n",
       "4    331\n",
       "Name: Balance, dtype: int64"
      ]
     },
     "execution_count": 8,
     "metadata": {},
     "output_type": "execute_result"
    }
   ],
   "source": [
    "# get the \"y\" vector\n",
    "y = df.Balance\n",
    "y.head()"
   ]
  },
  {
   "cell_type": "code",
   "execution_count": 16,
   "metadata": {},
   "outputs": [],
   "source": [
    "# get the \"X\" matrix\n",
    "X = df.drop(columns=['Balance'])\n",
    "X = pd.get_dummies(X)"
   ]
  },
  {
   "cell_type": "code",
   "execution_count": 17,
   "metadata": {},
   "outputs": [
    {
     "data": {
      "text/html": [
       "<div>\n",
       "<style scoped>\n",
       "    .dataframe tbody tr th:only-of-type {\n",
       "        vertical-align: middle;\n",
       "    }\n",
       "\n",
       "    .dataframe tbody tr th {\n",
       "        vertical-align: top;\n",
       "    }\n",
       "\n",
       "    .dataframe thead th {\n",
       "        text-align: right;\n",
       "    }\n",
       "</style>\n",
       "<table border=\"1\" class=\"dataframe\">\n",
       "  <thead>\n",
       "    <tr style=\"text-align: right;\">\n",
       "      <th></th>\n",
       "      <th>Unnamed: 0</th>\n",
       "      <th>Income</th>\n",
       "      <th>Limit</th>\n",
       "      <th>Rating</th>\n",
       "      <th>Cards</th>\n",
       "      <th>Age</th>\n",
       "      <th>Education</th>\n",
       "      <th>Gender_ Male</th>\n",
       "      <th>Gender_Female</th>\n",
       "      <th>Student_No</th>\n",
       "      <th>Student_Yes</th>\n",
       "      <th>Married_No</th>\n",
       "      <th>Married_Yes</th>\n",
       "      <th>Ethnicity_African American</th>\n",
       "      <th>Ethnicity_Asian</th>\n",
       "      <th>Ethnicity_Caucasian</th>\n",
       "    </tr>\n",
       "  </thead>\n",
       "  <tbody>\n",
       "    <tr>\n",
       "      <th>0</th>\n",
       "      <td>1</td>\n",
       "      <td>14.891</td>\n",
       "      <td>3606</td>\n",
       "      <td>283</td>\n",
       "      <td>2</td>\n",
       "      <td>34</td>\n",
       "      <td>11</td>\n",
       "      <td>1</td>\n",
       "      <td>0</td>\n",
       "      <td>1</td>\n",
       "      <td>0</td>\n",
       "      <td>0</td>\n",
       "      <td>1</td>\n",
       "      <td>0</td>\n",
       "      <td>0</td>\n",
       "      <td>1</td>\n",
       "    </tr>\n",
       "    <tr>\n",
       "      <th>1</th>\n",
       "      <td>2</td>\n",
       "      <td>106.025</td>\n",
       "      <td>6645</td>\n",
       "      <td>483</td>\n",
       "      <td>3</td>\n",
       "      <td>82</td>\n",
       "      <td>15</td>\n",
       "      <td>0</td>\n",
       "      <td>1</td>\n",
       "      <td>0</td>\n",
       "      <td>1</td>\n",
       "      <td>0</td>\n",
       "      <td>1</td>\n",
       "      <td>0</td>\n",
       "      <td>1</td>\n",
       "      <td>0</td>\n",
       "    </tr>\n",
       "    <tr>\n",
       "      <th>2</th>\n",
       "      <td>3</td>\n",
       "      <td>104.593</td>\n",
       "      <td>7075</td>\n",
       "      <td>514</td>\n",
       "      <td>4</td>\n",
       "      <td>71</td>\n",
       "      <td>11</td>\n",
       "      <td>1</td>\n",
       "      <td>0</td>\n",
       "      <td>1</td>\n",
       "      <td>0</td>\n",
       "      <td>1</td>\n",
       "      <td>0</td>\n",
       "      <td>0</td>\n",
       "      <td>1</td>\n",
       "      <td>0</td>\n",
       "    </tr>\n",
       "  </tbody>\n",
       "</table>\n",
       "</div>"
      ],
      "text/plain": [
       "   Unnamed: 0   Income  Limit  Rating  Cards  Age  Education  Gender_ Male  \\\n",
       "0           1   14.891   3606     283      2   34         11             1   \n",
       "1           2  106.025   6645     483      3   82         15             0   \n",
       "2           3  104.593   7075     514      4   71         11             1   \n",
       "\n",
       "   Gender_Female  Student_No  Student_Yes  Married_No  Married_Yes  \\\n",
       "0              0           1            0           0            1   \n",
       "1              1           0            1           0            1   \n",
       "2              0           1            0           1            0   \n",
       "\n",
       "   Ethnicity_African American  Ethnicity_Asian  Ethnicity_Caucasian  \n",
       "0                           0                0                    1  \n",
       "1                           0                1                    0  \n",
       "2                           0                1                    0  "
      ]
     },
     "execution_count": 17,
     "metadata": {},
     "output_type": "execute_result"
    }
   ],
   "source": [
    "x = sm.add_constant(X)\n",
    "X.head(3)"
   ]
  },
  {
   "cell_type": "code",
   "execution_count": 18,
   "metadata": {},
   "outputs": [],
   "source": [
    "# perform linear regression on the training dataset\n",
    "X_train, X_test, y_train, y_test = train_test_split(x, y, test_size=0.33, random_state=42)"
   ]
  },
  {
   "cell_type": "code",
   "execution_count": 19,
   "metadata": {},
   "outputs": [
    {
     "data": {
      "text/plain": [
       "(268, 17)"
      ]
     },
     "execution_count": 19,
     "metadata": {},
     "output_type": "execute_result"
    }
   ],
   "source": [
    "X_train.shape"
   ]
  },
  {
   "cell_type": "code",
   "execution_count": 20,
   "metadata": {},
   "outputs": [
    {
     "data": {
      "text/plain": [
       "(132, 17)"
      ]
     },
     "execution_count": 20,
     "metadata": {},
     "output_type": "execute_result"
    }
   ],
   "source": [
    "X_test.shape"
   ]
  },
  {
   "cell_type": "code",
   "execution_count": 21,
   "metadata": {},
   "outputs": [
    {
     "data": {
      "text/html": [
       "<table class=\"simpletable\">\n",
       "<caption>OLS Regression Results</caption>\n",
       "<tr>\n",
       "  <th>Dep. Variable:</th>         <td>Balance</td>     <th>  R-squared:         </th> <td>   0.955</td> \n",
       "</tr>\n",
       "<tr>\n",
       "  <th>Model:</th>                   <td>OLS</td>       <th>  Adj. R-squared:    </th> <td>   0.953</td> \n",
       "</tr>\n",
       "<tr>\n",
       "  <th>Method:</th>             <td>Least Squares</td>  <th>  F-statistic:       </th> <td>   450.6</td> \n",
       "</tr>\n",
       "<tr>\n",
       "  <th>Date:</th>             <td>Wed, 18 Jul 2018</td> <th>  Prob (F-statistic):</th> <td>5.37e-164</td>\n",
       "</tr>\n",
       "<tr>\n",
       "  <th>Time:</th>                 <td>17:51:21</td>     <th>  Log-Likelihood:    </th> <td> -1615.2</td> \n",
       "</tr>\n",
       "<tr>\n",
       "  <th>No. Observations:</th>      <td>   268</td>      <th>  AIC:               </th> <td>   3256.</td> \n",
       "</tr>\n",
       "<tr>\n",
       "  <th>Df Residuals:</th>          <td>   255</td>      <th>  BIC:               </th> <td>   3303.</td> \n",
       "</tr>\n",
       "<tr>\n",
       "  <th>Df Model:</th>              <td>    12</td>      <th>                     </th>     <td> </td>    \n",
       "</tr>\n",
       "<tr>\n",
       "  <th>Covariance Type:</th>      <td>nonrobust</td>    <th>                     </th>     <td> </td>    \n",
       "</tr>\n",
       "</table>\n",
       "<table class=\"simpletable\">\n",
       "<tr>\n",
       "               <td></td>                 <th>coef</th>     <th>std err</th>      <th>t</th>      <th>P>|t|</th>  <th>[0.025</th>    <th>0.975]</th>  \n",
       "</tr>\n",
       "<tr>\n",
       "  <th>const</th>                      <td>  -93.7521</td> <td>   16.351</td> <td>   -5.734</td> <td> 0.000</td> <td> -125.952</td> <td>  -61.552</td>\n",
       "</tr>\n",
       "<tr>\n",
       "  <th>Unnamed: 0</th>                 <td>    0.0195</td> <td>    0.058</td> <td>    0.338</td> <td> 0.736</td> <td>   -0.094</td> <td>    0.133</td>\n",
       "</tr>\n",
       "<tr>\n",
       "  <th>Income</th>                     <td>   -7.5929</td> <td>    0.310</td> <td>  -24.465</td> <td> 0.000</td> <td>   -8.204</td> <td>   -6.982</td>\n",
       "</tr>\n",
       "<tr>\n",
       "  <th>Limit</th>                      <td>    0.2216</td> <td>    0.041</td> <td>    5.454</td> <td> 0.000</td> <td>    0.142</td> <td>    0.302</td>\n",
       "</tr>\n",
       "<tr>\n",
       "  <th>Rating</th>                     <td>    0.6277</td> <td>    0.610</td> <td>    1.029</td> <td> 0.304</td> <td>   -0.573</td> <td>    1.829</td>\n",
       "</tr>\n",
       "<tr>\n",
       "  <th>Cards</th>                      <td>   21.3910</td> <td>    5.356</td> <td>    3.994</td> <td> 0.000</td> <td>   10.844</td> <td>   31.938</td>\n",
       "</tr>\n",
       "<tr>\n",
       "  <th>Age</th>                        <td>   -0.5304</td> <td>    0.385</td> <td>   -1.378</td> <td> 0.169</td> <td>   -1.288</td> <td>    0.227</td>\n",
       "</tr>\n",
       "<tr>\n",
       "  <th>Education</th>                  <td>   -0.5830</td> <td>    2.067</td> <td>   -0.282</td> <td> 0.778</td> <td>   -4.653</td> <td>    3.487</td>\n",
       "</tr>\n",
       "<tr>\n",
       "  <th>Gender_ Male</th>               <td>  -35.4891</td> <td>   10.522</td> <td>   -3.373</td> <td> 0.001</td> <td>  -56.210</td> <td>  -14.769</td>\n",
       "</tr>\n",
       "<tr>\n",
       "  <th>Gender_Female</th>              <td>  -58.2630</td> <td>   10.271</td> <td>   -5.673</td> <td> 0.000</td> <td>  -78.489</td> <td>  -38.037</td>\n",
       "</tr>\n",
       "<tr>\n",
       "  <th>Student_No</th>                 <td> -255.1080</td> <td>   12.030</td> <td>  -21.205</td> <td> 0.000</td> <td> -278.799</td> <td> -231.417</td>\n",
       "</tr>\n",
       "<tr>\n",
       "  <th>Student_Yes</th>                <td>  161.3559</td> <td>   14.984</td> <td>   10.768</td> <td> 0.000</td> <td>  131.847</td> <td>  190.864</td>\n",
       "</tr>\n",
       "<tr>\n",
       "  <th>Married_No</th>                 <td>  -45.8819</td> <td>   10.324</td> <td>   -4.444</td> <td> 0.000</td> <td>  -66.213</td> <td>  -25.551</td>\n",
       "</tr>\n",
       "<tr>\n",
       "  <th>Married_Yes</th>                <td>  -47.8702</td> <td>   10.778</td> <td>   -4.442</td> <td> 0.000</td> <td>  -69.095</td> <td>  -26.645</td>\n",
       "</tr>\n",
       "<tr>\n",
       "  <th>Ethnicity_African American</th> <td>  -42.7295</td> <td>   11.726</td> <td>   -3.644</td> <td> 0.000</td> <td>  -65.823</td> <td>  -19.636</td>\n",
       "</tr>\n",
       "<tr>\n",
       "  <th>Ethnicity_Asian</th>            <td>  -24.4368</td> <td>   11.232</td> <td>   -2.176</td> <td> 0.030</td> <td>  -46.556</td> <td>   -2.318</td>\n",
       "</tr>\n",
       "<tr>\n",
       "  <th>Ethnicity_Caucasian</th>        <td>  -26.5858</td> <td>   10.150</td> <td>   -2.619</td> <td> 0.009</td> <td>  -46.575</td> <td>   -6.597</td>\n",
       "</tr>\n",
       "</table>\n",
       "<table class=\"simpletable\">\n",
       "<tr>\n",
       "  <th>Omnibus:</th>       <td>18.586</td> <th>  Durbin-Watson:     </th> <td>   2.018</td>\n",
       "</tr>\n",
       "<tr>\n",
       "  <th>Prob(Omnibus):</th> <td> 0.000</td> <th>  Jarque-Bera (JB):  </th> <td>  21.032</td>\n",
       "</tr>\n",
       "<tr>\n",
       "  <th>Skew:</th>          <td> 0.686</td> <th>  Prob(JB):          </th> <td>2.71e-05</td>\n",
       "</tr>\n",
       "<tr>\n",
       "  <th>Kurtosis:</th>      <td> 3.006</td> <th>  Cond. No.          </th> <td>9.90e+19</td>\n",
       "</tr>\n",
       "</table><br/><br/>Warnings:<br/>[1] Standard Errors assume that the covariance matrix of the errors is correctly specified.<br/>[2] The smallest eigenvalue is 7.83e-31. This might indicate that there are<br/>strong multicollinearity problems or that the design matrix is singular."
      ],
      "text/plain": [
       "<class 'statsmodels.iolib.summary.Summary'>\n",
       "\"\"\"\n",
       "                            OLS Regression Results                            \n",
       "==============================================================================\n",
       "Dep. Variable:                Balance   R-squared:                       0.955\n",
       "Model:                            OLS   Adj. R-squared:                  0.953\n",
       "Method:                 Least Squares   F-statistic:                     450.6\n",
       "Date:                Wed, 18 Jul 2018   Prob (F-statistic):          5.37e-164\n",
       "Time:                        17:51:21   Log-Likelihood:                -1615.2\n",
       "No. Observations:                 268   AIC:                             3256.\n",
       "Df Residuals:                     255   BIC:                             3303.\n",
       "Df Model:                          12                                         \n",
       "Covariance Type:            nonrobust                                         \n",
       "==============================================================================================\n",
       "                                 coef    std err          t      P>|t|      [0.025      0.975]\n",
       "----------------------------------------------------------------------------------------------\n",
       "const                        -93.7521     16.351     -5.734      0.000    -125.952     -61.552\n",
       "Unnamed: 0                     0.0195      0.058      0.338      0.736      -0.094       0.133\n",
       "Income                        -7.5929      0.310    -24.465      0.000      -8.204      -6.982\n",
       "Limit                          0.2216      0.041      5.454      0.000       0.142       0.302\n",
       "Rating                         0.6277      0.610      1.029      0.304      -0.573       1.829\n",
       "Cards                         21.3910      5.356      3.994      0.000      10.844      31.938\n",
       "Age                           -0.5304      0.385     -1.378      0.169      -1.288       0.227\n",
       "Education                     -0.5830      2.067     -0.282      0.778      -4.653       3.487\n",
       "Gender_ Male                 -35.4891     10.522     -3.373      0.001     -56.210     -14.769\n",
       "Gender_Female                -58.2630     10.271     -5.673      0.000     -78.489     -38.037\n",
       "Student_No                  -255.1080     12.030    -21.205      0.000    -278.799    -231.417\n",
       "Student_Yes                  161.3559     14.984     10.768      0.000     131.847     190.864\n",
       "Married_No                   -45.8819     10.324     -4.444      0.000     -66.213     -25.551\n",
       "Married_Yes                  -47.8702     10.778     -4.442      0.000     -69.095     -26.645\n",
       "Ethnicity_African American   -42.7295     11.726     -3.644      0.000     -65.823     -19.636\n",
       "Ethnicity_Asian              -24.4368     11.232     -2.176      0.030     -46.556      -2.318\n",
       "Ethnicity_Caucasian          -26.5858     10.150     -2.619      0.009     -46.575      -6.597\n",
       "==============================================================================\n",
       "Omnibus:                       18.586   Durbin-Watson:                   2.018\n",
       "Prob(Omnibus):                  0.000   Jarque-Bera (JB):               21.032\n",
       "Skew:                           0.686   Prob(JB):                     2.71e-05\n",
       "Kurtosis:                       3.006   Cond. No.                     9.90e+19\n",
       "==============================================================================\n",
       "\n",
       "Warnings:\n",
       "[1] Standard Errors assume that the covariance matrix of the errors is correctly specified.\n",
       "[2] The smallest eigenvalue is 7.83e-31. This might indicate that there are\n",
       "strong multicollinearity problems or that the design matrix is singular.\n",
       "\"\"\""
      ]
     },
     "execution_count": 21,
     "metadata": {},
     "output_type": "execute_result"
    }
   ],
   "source": [
    "#get the r-squared value for the testing dataset\n",
    "model = sm.OLS(y_train, X_train)\n",
    "results = model.fit()\n",
    "results.summary()"
   ]
  },
  {
   "cell_type": "code",
   "execution_count": 27,
   "metadata": {},
   "outputs": [
    {
     "data": {
      "text/plain": [
       "209    772.457011\n",
       "280    558.077166\n",
       "33    -125.543453\n",
       "210    201.978650\n",
       "93     871.205893\n",
       "dtype: float64"
      ]
     },
     "execution_count": 27,
     "metadata": {},
     "output_type": "execute_result"
    }
   ],
   "source": [
    "y_hat=results.predict(X_test)\n",
    "y_hat[:5]"
   ]
  },
  {
   "cell_type": "code",
   "execution_count": 28,
   "metadata": {},
   "outputs": [
    {
     "data": {
      "text/plain": [
       "0.9522383003309602"
      ]
     },
     "execution_count": 28,
     "metadata": {},
     "output_type": "execute_result"
    }
   ],
   "source": [
    "#get the r-squared value for the testing dataset\n",
    "r2_score(y_test, y_hat)"
   ]
  },
  {
   "cell_type": "code",
   "execution_count": 30,
   "metadata": {},
   "outputs": [
    {
     "data": {
      "text/plain": [
       "Text(0.5,1,'actual vs predicted')"
      ]
     },
     "execution_count": 30,
     "metadata": {},
     "output_type": "execute_result"
    },
    {
     "data": {
      "image/png": "[encoded data removed]",
      "text/plain": [
       "<matplotlib.figure.Figure at 0xd22b908>"
      ]
     },
     "metadata": {},
     "output_type": "display_data"
    }
   ],
   "source": [
    "#display the results\n",
    "\n",
    "plt.scatter(X_test.Rating, y_test, label='actual')\n",
    "plt.scatter(X_test.Rating, y_hat, label='predicted', marker = '+')\n",
    "plt.legend()\n",
    "plt.title('actual vs predicted')"
   ]
  },
  {
   "cell_type": "code",
   "execution_count": null,
   "metadata": {},
   "outputs": [],
   "source": []
  }
 ],
 "metadata": {
  "kernelspec": {
   "display_name": "Python 3",
   "language": "python",
   "name": "python3"
  },
  "language_info": {
   "codemirror_mode": {
    "name": "ipython",
    "version": 3
   },
   "file_extension": ".py",
   "mimetype": "text/x-python",
   "name": "python",
   "nbconvert_exporter": "python",
   "pygments_lexer": "ipython3",
   "version": "3.6.4"
  }
 },
 "nbformat": 4,
 "nbformat_minor": 2
}
